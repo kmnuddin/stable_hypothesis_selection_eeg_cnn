{
 "cells": [
  {
   "cell_type": "code",
   "execution_count": 8,
   "metadata": {
    "scrolled": false
   },
   "outputs": [
    {
     "ename": "ERROR",
     "evalue": "Error in parse(text = x, srcfile = src): <text>:32:1: unexpected input\n31: p = plot_model(lm, type = \"int\",terms = c(\"bands\",\"groups\"),axis.title=c(\"bands\",\"Saliency\"),legend.title=\"RT group\",colors = c(\"red\", \"ForestGreen\",\"blue\"))\n32: %R print(p)\n    ^\n",
     "output_type": "error",
     "traceback": [
      "Error in parse(text = x, srcfile = src): <text>:32:1: unexpected input\n31: p = plot_model(lm, type = \"int\",terms = c(\"bands\",\"groups\"),axis.title=c(\"bands\",\"Saliency\"),legend.title=\"RT group\",colors = c(\"red\", \"ForestGreen\",\"blue\"))\n32: %R print(p)\n    ^\nTraceback:\n"
     ]
    }
   ],
   "source": [
    "sink('ANOVA_RT_50.txt')  #write output to text\n",
    "\n",
    "\n",
    "rm(list = ls())  # clear environment\n",
    "cat(\"\\014\") #clear console\n",
    "dev.new() #clear figures\n",
    "\n",
    "library(lme4)\n",
    "library(lmerTest)\n",
    "library(lsmeans)\n",
    "library(ggplot2)\n",
    "library(effects)\n",
    "library(gridExtra)\n",
    "library(sjPlot)\n",
    "#library(readxl)\n",
    " \n",
    "\n",
    "# pp=\"../home/CP Project/\";  #set working directory\n",
    "# setwd(pp)\n",
    "\n",
    "data1 <- read.csv('saliency_score_RT_50.csv')\n",
    "newSal <- aggregate(saliency~subs*bands*groups, FUN=mean,data=data1)  #collapse each subject\n",
    "\n",
    "\n",
    "# #Mixed-model ANOVA-----------------------------\n",
    "lm <- lmer(saliency ~ bands*groups + (1|subs),  data=newSal,REML=FALSE) \n",
    "summary(lm)\n",
    "anova(lm)\n",
    "# #qqnorm(residuals(lm))\n",
    "lsmeans(lm,pairwise ~ groups|bands, adjust=\"tukey\")\n",
    "p = plot_model(lm, type = \"int\",terms = c(\"bands\",\"groups\"),axis.title=c(\"bands\",\"Saliency\"),legend.title=\"RT group\",colors = c(\"red\", \"ForestGreen\",\"blue\"))\n",
    "%R print(p)\n",
    "sink()"
   ]
  },
  {
   "cell_type": "code",
   "execution_count": 3,
   "metadata": {},
   "outputs": [
    {
     "data": {
      "text/html": [
       "<ol class=list-inline>\n",
       "\t<li>468</li>\n",
       "\t<li>4</li>\n",
       "</ol>\n"
      ],
      "text/latex": [
       "\\begin{enumerate*}\n",
       "\\item 468\n",
       "\\item 4\n",
       "\\end{enumerate*}\n"
      ],
      "text/markdown": [
       "1. 468\n",
       "2. 4\n",
       "\n",
       "\n"
      ],
      "text/plain": [
       "[1] 468   4"
      ]
     },
     "metadata": {},
     "output_type": "display_data"
    }
   ],
   "source": [
    "dim(newSal)"
   ]
  },
  {
   "cell_type": "code",
   "execution_count": 2,
   "metadata": {},
   "outputs": [
    {
     "name": "stderr",
     "output_type": "stream",
     "text": [
      "Warning message:\n",
      "“dependency ‘foreign’ is not available”also installing the dependencies ‘sys’, ‘askpass’, ‘crosstalk’, ‘xopen’, ‘brew’, ‘ini’, ‘lazyeval’, ‘curl’, ‘openssl’, ‘png’, ‘jpeg’, ‘checkmate’, ‘zoo’, ‘Rcpp’, ‘matrixStats’, ‘RcppArmadillo’, ‘e1071’, ‘class’, ‘KernSmooth’, ‘systemfonts’, ‘DT’, ‘jsonlite’, ‘memoise’, ‘rcmdcheck’, ‘remotes’, ‘roxygen2’, ‘rversions’, ‘sessioninfo’, ‘fontBitstreamVera’, ‘fontLiberation’, ‘httpuv’, ‘htmltools’, ‘sourcetools’, ‘later’, ‘promises’, ‘fastmap’, ‘commonmark’, ‘clipr’, ‘fs’, ‘gh’, ‘git2r’, ‘rematch2’, ‘whisker’, ‘rex’, ‘httr’, ‘Formula’, ‘latticeExtra’, ‘cluster’, ‘data.table’, ‘htmlTable’, ‘viridis’, ‘sp’, ‘TH.data’, ‘sandwich’, ‘codetools’, ‘htmlwidgets’, ‘SparseM’, ‘MatrixModels’, ‘conquer’, ‘tinytex’, ‘classInt’, ‘units’, ‘gdtools’, ‘BH’, ‘devtools’, ‘diffobj’, ‘fontquiver’, ‘freetypeharfbuzz’, ‘shiny’, ‘usethis’, ‘xml2’, ‘covr’, ‘ggplot2movies’, ‘hexbin’, ‘Hmisc’, ‘mapproj’, ‘maps’, ‘maptools’, ‘multcomp’, ‘profvis’, ‘quantreg’, ‘rgeos’, ‘rmarkdown’, ‘rpart’, ‘sf’, ‘svglite’, ‘vdiffr’\n",
      "\n",
      "Warning message in install.packages(\"ggplot2\", dependencies = TRUE):\n",
      "“installation of package ‘systemfonts’ had non-zero exit status”Warning message in install.packages(\"ggplot2\", dependencies = TRUE):\n",
      "“installation of package ‘units’ had non-zero exit status”Warning message in install.packages(\"ggplot2\", dependencies = TRUE):\n",
      "“installation of package ‘gdtools’ had non-zero exit status”Warning message in install.packages(\"ggplot2\", dependencies = TRUE):\n",
      "“installation of package ‘maptools’ had non-zero exit status”Warning message in install.packages(\"ggplot2\", dependencies = TRUE):\n",
      "“installation of package ‘rgeos’ had non-zero exit status”Warning message in install.packages(\"ggplot2\", dependencies = TRUE):\n",
      "“installation of package ‘svglite’ had non-zero exit status”Warning message in install.packages(\"ggplot2\", dependencies = TRUE):\n",
      "“installation of package ‘Hmisc’ had non-zero exit status”Warning message in install.packages(\"ggplot2\", dependencies = TRUE):\n",
      "“installation of package ‘sf’ had non-zero exit status”Warning message in install.packages(\"ggplot2\", dependencies = TRUE):\n",
      "“installation of package ‘vdiffr’ had non-zero exit status”Updating HTML index of packages in '.Library'\n",
      "Making 'packages.html' ... done\n"
     ]
    }
   ],
   "source": [
    "install.packages(\"ggplot2\", dependencies = TRUE)"
   ]
  }
 ],
 "metadata": {
  "kernelspec": {
   "display_name": "R",
   "language": "R",
   "name": "ir"
  },
  "language_info": {
   "codemirror_mode": "r",
   "file_extension": ".r",
   "mimetype": "text/x-r-source",
   "name": "R",
   "pygments_lexer": "r",
   "version": "3.6.1"
  }
 },
 "nbformat": 4,
 "nbformat_minor": 2
}
